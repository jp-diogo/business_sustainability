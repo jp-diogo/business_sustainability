{
 "cells": [
  {
   "cell_type": "code",
   "execution_count": 1,
   "id": "b32f1580",
   "metadata": {},
   "outputs": [],
   "source": [
    "import pandas as pd\n",
    "import numpy as np"
   ]
  },
  {
   "cell_type": "code",
   "execution_count": 2,
   "id": "8024d2a7",
   "metadata": {},
   "outputs": [],
   "source": [
    "df = pd.read_csv('/Users/ica/code/jp-diogo/business_sustainability/MergedData.csv')"
   ]
  },
  {
   "cell_type": "code",
   "execution_count": 12,
   "id": "4211986a",
   "metadata": {},
   "outputs": [],
   "source": [
    "# dam_zonal_lbmp is the price variable"
   ]
  },
  {
   "cell_type": "code",
   "execution_count": 11,
   "id": "a9e8c845",
   "metadata": {},
   "outputs": [
    {
     "name": "stdout",
     "output_type": "stream",
     "text": [
      "<class 'pandas.core.frame.DataFrame'>\n",
      "RangeIndex: 42815 entries, 0 to 42814\n",
      "Data columns (total 30 columns):\n",
      " #   Column                   Non-Null Count  Dtype  \n",
      "---  ------                   --------------  -----  \n",
      " 0   Unnamed: 0               42815 non-null  int64  \n",
      " 1   timestamp                42815 non-null  object \n",
      " 2   zone_name                42815 non-null  object \n",
      " 3   dam_zonal_lbmp           42815 non-null  float64\n",
      " 4   dam_zonal_losses         42815 non-null  float64\n",
      " 5   dam_zonal_congestion     42815 non-null  float64\n",
      " 6   dam_zonal_price_version  42815 non-null  int64  \n",
      " 7   date                     42815 non-null  object \n",
      " 8   hour_of_day              42815 non-null  int64  \n",
      " 9   rtd_actual_load          42815 non-null  float64\n",
      " 10  dual_fuel                42815 non-null  float64\n",
      " 11  dual_fuel_%              42815 non-null  float64\n",
      " 12  hydro                    42815 non-null  float64\n",
      " 13  hydro_%                  42815 non-null  float64\n",
      " 14  natural_gas              42815 non-null  float64\n",
      " 15  natural_gas_%            42815 non-null  float64\n",
      " 16  nuclear                  42815 non-null  float64\n",
      " 17  nuclear_%                42815 non-null  float64\n",
      " 18  other_fossil_fuels       42815 non-null  float64\n",
      " 19  other_fossil_fuels_%     42815 non-null  float64\n",
      " 20  other_renewables         42815 non-null  float64\n",
      " 21  other_renewables_%       42815 non-null  float64\n",
      " 22  wind                     42815 non-null  float64\n",
      " 23  wind_%                   42815 non-null  float64\n",
      " 24  total                    42815 non-null  float64\n",
      " 25  year                     42815 non-null  int64  \n",
      " 26  quarter                  42815 non-null  int64  \n",
      " 27  month                    42815 non-null  int64  \n",
      " 28  week                     42815 non-null  int64  \n",
      " 29  day_of_week              42815 non-null  int64  \n",
      "dtypes: float64(19), int64(8), object(3)\n",
      "memory usage: 9.8+ MB\n"
     ]
    }
   ],
   "source": [
    "df.info()"
   ]
  },
  {
   "cell_type": "code",
   "execution_count": 5,
   "id": "296f5098",
   "metadata": {},
   "outputs": [
    {
     "data": {
      "text/plain": [
       "(42815, 30)"
      ]
     },
     "execution_count": 5,
     "metadata": {},
     "output_type": "execute_result"
    }
   ],
   "source": [
    "df.shape"
   ]
  },
  {
   "cell_type": "code",
   "execution_count": null,
   "id": "68977a1e",
   "metadata": {},
   "outputs": [],
   "source": [
    "# Must previously build a df with the features we want to use and name it 'df'"
   ]
  },
  {
   "cell_type": "code",
   "execution_count": null,
   "id": "7b909116",
   "metadata": {},
   "outputs": [],
   "source": [
    "len_ = int(0.8*df.shape[0])\n",
    "df_train = df[:len_]\n",
    "df_test = df[len_:]"
   ]
  },
  {
   "cell_type": "markdown",
   "id": "58a08039",
   "metadata": {},
   "source": [
    "# Missing the 2+ days interval between train and test datasets"
   ]
  },
  {
   "cell_type": "code",
   "execution_count": 8,
   "id": "55061b87",
   "metadata": {},
   "outputs": [],
   "source": [
    "def subsample_sequence(df, length):\n",
    "    \"\"\"\n",
    "    Given the initial dataframe `df`, return a shorter dataframe sequence of length `length`.\n",
    "    This shorter sequence should be selected at random\n",
    "    \"\"\"\n",
    "    # $CHALLENGIFY_BEGIN\n",
    "    last_possible = df.shape[0] - length\n",
    "    \n",
    "    random_start = np.random.randint(0, last_possible)\n",
    "    df_sample = df[random_start: random_start+length]\n",
    "    # $CHALLENGIFY_END\n",
    "    return df_sample"
   ]
  },
  {
   "cell_type": "code",
   "execution_count": 16,
   "id": "f1fb5df7",
   "metadata": {},
   "outputs": [],
   "source": [
    "def split_subsample_sequence(df, length):\n",
    "    '''Create one single random (X,y) pair'''\n",
    "    # $CHALLENGIFY_BEGIN\n",
    "    df_subsample = subsample_sequence(df, length)\n",
    "    y_sample = df_subsample.iloc[length -1]['dam_zonal_lbmp']\n",
    "    \n",
    "    X_sample = df_subsample[0:length -1]\n",
    "    X_sample = X_sample.values\n",
    "    # $CHALLENGIFY_END\n",
    "    return np.array(X_sample), np.array(y_sample)"
   ]
  },
  {
   "cell_type": "code",
   "execution_count": 17,
   "id": "782f5065",
   "metadata": {},
   "outputs": [],
   "source": [
    "#Not sure if the code below works"
   ]
  },
  {
   "cell_type": "code",
   "execution_count": 18,
   "id": "9327bb78",
   "metadata": {},
   "outputs": [],
   "source": [
    "def split_subsample_sequence(df, length):\n",
    "    '''Return one single random sample (X_sample, y_sample) containing one sequence each of length `length`'''\n",
    "\n",
    "    df_subsample = subsample_sequence(df, length)\n",
    "    \n",
    "    y_sample = df_subsample.iloc[length-1]['dam_zonal_lbmp']\n",
    "    # Case y_sample is NaN: redraw !\n",
    "    if y_sample != y_sample: # A value is not equal to itself only for NaN\n",
    "            X_sample, y_sample = split_subsample_sequence(df, length) # Recursive call !!!\n",
    "            return np.array(X_sample), np.array(y_sample)\n",
    "\n",
    "    X_sample = df_subsample[0:length-1]\n",
    "        \n",
    "    return np.array(X_sample), np.array(y_sample)"
   ]
  },
  {
   "cell_type": "code",
   "execution_count": 19,
   "id": "e343df1e",
   "metadata": {},
   "outputs": [],
   "source": [
    "def get_X_y(df, n_sequences, length):\n",
    "    '''Return a list of samples (X, y)'''\n",
    "    # $CHALLENGIFY_BEGIN\n",
    "    X, y = [], []\n",
    "\n",
    "    for i in range(n_sequences):\n",
    "        (xi, yi) = split_subsample_sequence(df, length)\n",
    "        X.append(xi)\n",
    "        y.append(yi)\n",
    "        \n",
    "    X = np.array(X)\n",
    "    y = np.array(y)\n",
    "    # $CHALLENGIFY_END\n",
    "    return X, y"
   ]
  },
  {
   "cell_type": "code",
   "execution_count": 20,
   "id": "84156fc4",
   "metadata": {},
   "outputs": [],
   "source": [
    "# Example of what the code would return \n",
    "X_train, y_train = get_X_y(df_train, 2000, 21)\n",
    "X_test, y_test = get_X_y(df_test, 400, 21)"
   ]
  },
  {
   "cell_type": "code",
   "execution_count": null,
   "id": "0436f78a",
   "metadata": {},
   "outputs": [],
   "source": []
  },
  {
   "cell_type": "code",
   "execution_count": null,
   "id": "bc03bf77",
   "metadata": {},
   "outputs": [],
   "source": []
  }
 ],
 "metadata": {
  "kernelspec": {
   "display_name": "Python 3 (ipykernel)",
   "language": "python",
   "name": "python3"
  },
  "language_info": {
   "codemirror_mode": {
    "name": "ipython",
    "version": 3
   },
   "file_extension": ".py",
   "mimetype": "text/x-python",
   "name": "python",
   "nbconvert_exporter": "python",
   "pygments_lexer": "ipython3",
   "version": "3.8.12"
  },
  "toc": {
   "base_numbering": 1,
   "nav_menu": {},
   "number_sections": true,
   "sideBar": true,
   "skip_h1_title": false,
   "title_cell": "Table of Contents",
   "title_sidebar": "Contents",
   "toc_cell": false,
   "toc_position": {},
   "toc_section_display": true,
   "toc_window_display": false
  }
 },
 "nbformat": 4,
 "nbformat_minor": 5
}
