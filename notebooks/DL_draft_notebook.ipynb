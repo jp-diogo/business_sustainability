{
 "cells": [
  {
   "cell_type": "code",
   "execution_count": 1,
   "id": "b32f1580",
   "metadata": {},
   "outputs": [],
   "source": [
    "import pandas as pd\n",
    "import numpy as np"
   ]
  },
  {
   "cell_type": "code",
   "execution_count": 2,
   "id": "8024d2a7",
   "metadata": {},
   "outputs": [],
   "source": [
    "df = pd.read_csv(\"../raw_data/MergedData.csv\")"
   ]
  },
  {
   "cell_type": "code",
   "execution_count": 3,
   "id": "4211986a",
   "metadata": {},
   "outputs": [],
   "source": [
    "# dam_zonal_lbmp is the price variable"
   ]
  },
  {
   "cell_type": "code",
   "execution_count": 4,
   "id": "a9e8c845",
   "metadata": {},
   "outputs": [
    {
     "name": "stdout",
     "output_type": "stream",
     "text": [
      "<class 'pandas.core.frame.DataFrame'>\n",
      "RangeIndex: 42815 entries, 0 to 42814\n",
      "Data columns (total 30 columns):\n",
      " #   Column                   Non-Null Count  Dtype  \n",
      "---  ------                   --------------  -----  \n",
      " 0   Unnamed: 0               42815 non-null  int64  \n",
      " 1   timestamp                42815 non-null  object \n",
      " 2   zone_name                42815 non-null  object \n",
      " 3   dam_zonal_lbmp           42815 non-null  float64\n",
      " 4   dam_zonal_losses         42815 non-null  float64\n",
      " 5   dam_zonal_congestion     42815 non-null  float64\n",
      " 6   dam_zonal_price_version  42815 non-null  int64  \n",
      " 7   date                     42815 non-null  object \n",
      " 8   hour_of_day              42815 non-null  int64  \n",
      " 9   rtd_actual_load          42815 non-null  float64\n",
      " 10  dual_fuel                42815 non-null  float64\n",
      " 11  dual_fuel_%              42815 non-null  float64\n",
      " 12  hydro                    42815 non-null  float64\n",
      " 13  hydro_%                  42815 non-null  float64\n",
      " 14  natural_gas              42815 non-null  float64\n",
      " 15  natural_gas_%            42815 non-null  float64\n",
      " 16  nuclear                  42815 non-null  float64\n",
      " 17  nuclear_%                42815 non-null  float64\n",
      " 18  other_fossil_fuels       42815 non-null  float64\n",
      " 19  other_fossil_fuels_%     42815 non-null  float64\n",
      " 20  other_renewables         42815 non-null  float64\n",
      " 21  other_renewables_%       42815 non-null  float64\n",
      " 22  wind                     42815 non-null  float64\n",
      " 23  wind_%                   42815 non-null  float64\n",
      " 24  total                    42815 non-null  float64\n",
      " 25  year                     42815 non-null  int64  \n",
      " 26  quarter                  42815 non-null  int64  \n",
      " 27  month                    42815 non-null  int64  \n",
      " 28  week                     42815 non-null  int64  \n",
      " 29  day_of_week              42815 non-null  int64  \n",
      "dtypes: float64(19), int64(8), object(3)\n",
      "memory usage: 9.8+ MB\n"
     ]
    }
   ],
   "source": [
    "df.info()"
   ]
  },
  {
   "cell_type": "code",
   "execution_count": 5,
   "id": "296f5098",
   "metadata": {},
   "outputs": [
    {
     "data": {
      "text/plain": [
       "(42815, 30)"
      ]
     },
     "execution_count": 5,
     "metadata": {},
     "output_type": "execute_result"
    }
   ],
   "source": [
    "df.shape"
   ]
  },
  {
   "cell_type": "code",
   "execution_count": 6,
   "id": "68977a1e",
   "metadata": {},
   "outputs": [],
   "source": [
    "# Must previously build a df with the features we want to use and name it 'df'"
   ]
  },
  {
   "cell_type": "code",
   "execution_count": 7,
   "id": "842a27b6-006f-4b55-83fb-1b4210916993",
   "metadata": {},
   "outputs": [
    {
     "data": {
      "text/html": [
       "<div>\n",
       "<style scoped>\n",
       "    .dataframe tbody tr th:only-of-type {\n",
       "        vertical-align: middle;\n",
       "    }\n",
       "\n",
       "    .dataframe tbody tr th {\n",
       "        vertical-align: top;\n",
       "    }\n",
       "\n",
       "    .dataframe thead th {\n",
       "        text-align: right;\n",
       "    }\n",
       "</style>\n",
       "<table border=\"1\" class=\"dataframe\">\n",
       "  <thead>\n",
       "    <tr style=\"text-align: right;\">\n",
       "      <th></th>\n",
       "      <th>Unnamed: 0</th>\n",
       "      <th>dam_zonal_lbmp</th>\n",
       "      <th>dam_zonal_losses</th>\n",
       "      <th>dam_zonal_congestion</th>\n",
       "      <th>dam_zonal_price_version</th>\n",
       "      <th>hour_of_day</th>\n",
       "      <th>rtd_actual_load</th>\n",
       "      <th>dual_fuel</th>\n",
       "      <th>dual_fuel_%</th>\n",
       "      <th>hydro</th>\n",
       "      <th>...</th>\n",
       "      <th>other_renewables</th>\n",
       "      <th>other_renewables_%</th>\n",
       "      <th>wind</th>\n",
       "      <th>wind_%</th>\n",
       "      <th>total</th>\n",
       "      <th>year</th>\n",
       "      <th>quarter</th>\n",
       "      <th>month</th>\n",
       "      <th>week</th>\n",
       "      <th>day_of_week</th>\n",
       "    </tr>\n",
       "  </thead>\n",
       "  <tbody>\n",
       "    <tr>\n",
       "      <th>count</th>\n",
       "      <td>42815.000000</td>\n",
       "      <td>42815.000000</td>\n",
       "      <td>42815.000000</td>\n",
       "      <td>42815.000000</td>\n",
       "      <td>42815.0</td>\n",
       "      <td>42815.000000</td>\n",
       "      <td>42815.000000</td>\n",
       "      <td>42815.000000</td>\n",
       "      <td>42815.000000</td>\n",
       "      <td>42815.000000</td>\n",
       "      <td>...</td>\n",
       "      <td>42815.000000</td>\n",
       "      <td>42815.000000</td>\n",
       "      <td>42815.000000</td>\n",
       "      <td>42815.000000</td>\n",
       "      <td>42815.000000</td>\n",
       "      <td>42815.000000</td>\n",
       "      <td>42815.000000</td>\n",
       "      <td>42815.000000</td>\n",
       "      <td>42815.000000</td>\n",
       "      <td>42815.000000</td>\n",
       "    </tr>\n",
       "    <tr>\n",
       "      <th>mean</th>\n",
       "      <td>21409.314259</td>\n",
       "      <td>35.075166</td>\n",
       "      <td>2.745284</td>\n",
       "      <td>-7.886423</td>\n",
       "      <td>1.0</td>\n",
       "      <td>11.500502</td>\n",
       "      <td>5807.991332</td>\n",
       "      <td>3363.962873</td>\n",
       "      <td>0.216734</td>\n",
       "      <td>3260.389930</td>\n",
       "      <td>...</td>\n",
       "      <td>256.478413</td>\n",
       "      <td>0.017718</td>\n",
       "      <td>484.643606</td>\n",
       "      <td>0.033659</td>\n",
       "      <td>14921.685022</td>\n",
       "      <td>2019.153077</td>\n",
       "      <td>2.523882</td>\n",
       "      <td>6.573210</td>\n",
       "      <td>26.866145</td>\n",
       "      <td>2.998482</td>\n",
       "    </tr>\n",
       "    <tr>\n",
       "      <th>std</th>\n",
       "      <td>12361.199800</td>\n",
       "      <td>25.431270</td>\n",
       "      <td>1.910009</td>\n",
       "      <td>11.587511</td>\n",
       "      <td>0.0</td>\n",
       "      <td>6.921913</td>\n",
       "      <td>1235.205458</td>\n",
       "      <td>1628.229009</td>\n",
       "      <td>0.064374</td>\n",
       "      <td>564.930237</td>\n",
       "      <td>...</td>\n",
       "      <td>24.986919</td>\n",
       "      <td>0.003366</td>\n",
       "      <td>407.431344</td>\n",
       "      <td>0.029054</td>\n",
       "      <td>2853.568297</td>\n",
       "      <td>1.427764</td>\n",
       "      <td>1.112272</td>\n",
       "      <td>3.429209</td>\n",
       "      <td>14.969888</td>\n",
       "      <td>2.000776</td>\n",
       "    </tr>\n",
       "    <tr>\n",
       "      <th>min</th>\n",
       "      <td>0.000000</td>\n",
       "      <td>5.770000</td>\n",
       "      <td>-0.590000</td>\n",
       "      <td>-161.660000</td>\n",
       "      <td>1.0</td>\n",
       "      <td>0.000000</td>\n",
       "      <td>3608.141667</td>\n",
       "      <td>527.833333</td>\n",
       "      <td>0.052487</td>\n",
       "      <td>1137.916667</td>\n",
       "      <td>...</td>\n",
       "      <td>139.750000</td>\n",
       "      <td>0.007529</td>\n",
       "      <td>0.000000</td>\n",
       "      <td>0.000000</td>\n",
       "      <td>9125.500000</td>\n",
       "      <td>2017.000000</td>\n",
       "      <td>1.000000</td>\n",
       "      <td>1.000000</td>\n",
       "      <td>1.000000</td>\n",
       "      <td>0.000000</td>\n",
       "    </tr>\n",
       "    <tr>\n",
       "      <th>25%</th>\n",
       "      <td>10704.500000</td>\n",
       "      <td>21.470000</td>\n",
       "      <td>1.520000</td>\n",
       "      <td>-10.370000</td>\n",
       "      <td>1.0</td>\n",
       "      <td>6.000000</td>\n",
       "      <td>4886.385071</td>\n",
       "      <td>2290.333333</td>\n",
       "      <td>0.171506</td>\n",
       "      <td>2892.083333</td>\n",
       "      <td>...</td>\n",
       "      <td>243.083333</td>\n",
       "      <td>0.015378</td>\n",
       "      <td>147.916667</td>\n",
       "      <td>0.009960</td>\n",
       "      <td>12899.000000</td>\n",
       "      <td>2018.000000</td>\n",
       "      <td>2.000000</td>\n",
       "      <td>4.000000</td>\n",
       "      <td>14.000000</td>\n",
       "      <td>1.000000</td>\n",
       "    </tr>\n",
       "    <tr>\n",
       "      <th>50%</th>\n",
       "      <td>21409.000000</td>\n",
       "      <td>28.910000</td>\n",
       "      <td>2.410000</td>\n",
       "      <td>-4.390000</td>\n",
       "      <td>1.0</td>\n",
       "      <td>12.000000</td>\n",
       "      <td>5686.900000</td>\n",
       "      <td>3027.166667</td>\n",
       "      <td>0.209231</td>\n",
       "      <td>3344.916667</td>\n",
       "      <td>...</td>\n",
       "      <td>259.750000</td>\n",
       "      <td>0.017520</td>\n",
       "      <td>367.666667</td>\n",
       "      <td>0.025016</td>\n",
       "      <td>14579.833333</td>\n",
       "      <td>2019.000000</td>\n",
       "      <td>3.000000</td>\n",
       "      <td>7.000000</td>\n",
       "      <td>27.000000</td>\n",
       "      <td>3.000000</td>\n",
       "    </tr>\n",
       "    <tr>\n",
       "      <th>75%</th>\n",
       "      <td>32114.500000</td>\n",
       "      <td>39.670000</td>\n",
       "      <td>3.480000</td>\n",
       "      <td>-0.620000</td>\n",
       "      <td>1.0</td>\n",
       "      <td>17.500000</td>\n",
       "      <td>6411.795513</td>\n",
       "      <td>3972.500000</td>\n",
       "      <td>0.256155</td>\n",
       "      <td>3687.750000</td>\n",
       "      <td>...</td>\n",
       "      <td>273.000000</td>\n",
       "      <td>0.019917</td>\n",
       "      <td>744.208333</td>\n",
       "      <td>0.051158</td>\n",
       "      <td>16347.819444</td>\n",
       "      <td>2020.000000</td>\n",
       "      <td>4.000000</td>\n",
       "      <td>10.000000</td>\n",
       "      <td>40.000000</td>\n",
       "      <td>5.000000</td>\n",
       "    </tr>\n",
       "    <tr>\n",
       "      <th>max</th>\n",
       "      <td>42819.000000</td>\n",
       "      <td>314.740000</td>\n",
       "      <td>26.000000</td>\n",
       "      <td>11.810000</td>\n",
       "      <td>1.0</td>\n",
       "      <td>23.000000</td>\n",
       "      <td>11074.875000</td>\n",
       "      <td>12177.928571</td>\n",
       "      <td>0.450898</td>\n",
       "      <td>5041.416667</td>\n",
       "      <td>...</td>\n",
       "      <td>332.250000</td>\n",
       "      <td>0.031030</td>\n",
       "      <td>1893.250000</td>\n",
       "      <td>0.152396</td>\n",
       "      <td>28578.500000</td>\n",
       "      <td>2022.000000</td>\n",
       "      <td>4.000000</td>\n",
       "      <td>12.000000</td>\n",
       "      <td>53.000000</td>\n",
       "      <td>6.000000</td>\n",
       "    </tr>\n",
       "  </tbody>\n",
       "</table>\n",
       "<p>8 rows × 27 columns</p>\n",
       "</div>"
      ],
      "text/plain": [
       "         Unnamed: 0  dam_zonal_lbmp  dam_zonal_losses  dam_zonal_congestion  \\\n",
       "count  42815.000000    42815.000000      42815.000000          42815.000000   \n",
       "mean   21409.314259       35.075166          2.745284             -7.886423   \n",
       "std    12361.199800       25.431270          1.910009             11.587511   \n",
       "min        0.000000        5.770000         -0.590000           -161.660000   \n",
       "25%    10704.500000       21.470000          1.520000            -10.370000   \n",
       "50%    21409.000000       28.910000          2.410000             -4.390000   \n",
       "75%    32114.500000       39.670000          3.480000             -0.620000   \n",
       "max    42819.000000      314.740000         26.000000             11.810000   \n",
       "\n",
       "       dam_zonal_price_version   hour_of_day  rtd_actual_load     dual_fuel  \\\n",
       "count                  42815.0  42815.000000     42815.000000  42815.000000   \n",
       "mean                       1.0     11.500502      5807.991332   3363.962873   \n",
       "std                        0.0      6.921913      1235.205458   1628.229009   \n",
       "min                        1.0      0.000000      3608.141667    527.833333   \n",
       "25%                        1.0      6.000000      4886.385071   2290.333333   \n",
       "50%                        1.0     12.000000      5686.900000   3027.166667   \n",
       "75%                        1.0     17.500000      6411.795513   3972.500000   \n",
       "max                        1.0     23.000000     11074.875000  12177.928571   \n",
       "\n",
       "        dual_fuel_%         hydro  ...  other_renewables  other_renewables_%  \\\n",
       "count  42815.000000  42815.000000  ...      42815.000000        42815.000000   \n",
       "mean       0.216734   3260.389930  ...        256.478413            0.017718   \n",
       "std        0.064374    564.930237  ...         24.986919            0.003366   \n",
       "min        0.052487   1137.916667  ...        139.750000            0.007529   \n",
       "25%        0.171506   2892.083333  ...        243.083333            0.015378   \n",
       "50%        0.209231   3344.916667  ...        259.750000            0.017520   \n",
       "75%        0.256155   3687.750000  ...        273.000000            0.019917   \n",
       "max        0.450898   5041.416667  ...        332.250000            0.031030   \n",
       "\n",
       "               wind        wind_%         total          year       quarter  \\\n",
       "count  42815.000000  42815.000000  42815.000000  42815.000000  42815.000000   \n",
       "mean     484.643606      0.033659  14921.685022   2019.153077      2.523882   \n",
       "std      407.431344      0.029054   2853.568297      1.427764      1.112272   \n",
       "min        0.000000      0.000000   9125.500000   2017.000000      1.000000   \n",
       "25%      147.916667      0.009960  12899.000000   2018.000000      2.000000   \n",
       "50%      367.666667      0.025016  14579.833333   2019.000000      3.000000   \n",
       "75%      744.208333      0.051158  16347.819444   2020.000000      4.000000   \n",
       "max     1893.250000      0.152396  28578.500000   2022.000000      4.000000   \n",
       "\n",
       "              month          week   day_of_week  \n",
       "count  42815.000000  42815.000000  42815.000000  \n",
       "mean       6.573210     26.866145      2.998482  \n",
       "std        3.429209     14.969888      2.000776  \n",
       "min        1.000000      1.000000      0.000000  \n",
       "25%        4.000000     14.000000      1.000000  \n",
       "50%        7.000000     27.000000      3.000000  \n",
       "75%       10.000000     40.000000      5.000000  \n",
       "max       12.000000     53.000000      6.000000  \n",
       "\n",
       "[8 rows x 27 columns]"
      ]
     },
     "execution_count": 7,
     "metadata": {},
     "output_type": "execute_result"
    }
   ],
   "source": [
    "df.describe()"
   ]
  },
  {
   "cell_type": "code",
   "execution_count": 8,
   "id": "66d28f70-7617-4ac5-a036-ecabe5ddb202",
   "metadata": {},
   "outputs": [],
   "source": [
    "df = df[['dam_zonal_lbmp', 'dam_zonal_losses', 'dam_zonal_congestion', 'hour_of_day', 'rtd_actual_load', 'dual_fuel_%', 'other_renewables_%','wind_%','total','year','quarter','month','day_of_week']]"
   ]
  },
  {
   "cell_type": "code",
   "execution_count": 9,
   "id": "7b909116",
   "metadata": {},
   "outputs": [],
   "source": [
    "len_ = int(0.8*df.shape[0])\n",
    "df_train = df[:len_]\n",
    "df_test = df[len_:]"
   ]
  },
  {
   "cell_type": "code",
   "execution_count": 10,
   "id": "e449c07b-833b-45ff-aebd-c986500736d5",
   "metadata": {},
   "outputs": [
    {
     "name": "stdout",
     "output_type": "stream",
     "text": [
      "(42815, 13) (34252, 13) (8563, 13)\n"
     ]
    }
   ],
   "source": [
    "print(df.shape,df_train.shape,df_test.shape)"
   ]
  },
  {
   "cell_type": "markdown",
   "id": "58a08039",
   "metadata": {},
   "source": [
    "# Missing the 2+ days interval between train and test datasets"
   ]
  },
  {
   "cell_type": "code",
   "execution_count": 11,
   "id": "55061b87",
   "metadata": {},
   "outputs": [],
   "source": [
    "def subsample_sequence(df, length):\n",
    "    \"\"\"\n",
    "    Given the initial dataframe `df`, return a shorter dataframe sequence of length `length`.\n",
    "    This shorter sequence should be selected at random\n",
    "    \"\"\"\n",
    "    # $CHALLENGIFY_BEGIN\n",
    "    last_possible = df.shape[0] - length\n",
    "    \n",
    "    random_start = np.random.randint(0, last_possible)\n",
    "    df_sample = df[random_start: random_start+length]\n",
    "    # $CHALLENGIFY_END\n",
    "    return df_sample"
   ]
  },
  {
   "cell_type": "code",
   "execution_count": 12,
   "id": "f1fb5df7",
   "metadata": {},
   "outputs": [],
   "source": [
    "def split_subsample_sequence(df, length):\n",
    "    '''Create one single random (X,y) pair'''\n",
    "    # $CHALLENGIFY_BEGIN\n",
    "    df_subsample = subsample_sequence(df, length)\n",
    "    y_sample = df_subsample.iloc[length -1]['dam_zonal_lbmp']\n",
    "    \n",
    "    X_sample = df_subsample[0:length -1]\n",
    "    X_sample = X_sample.values\n",
    "    # $CHALLENGIFY_END\n",
    "    return np.array(X_sample), np.array(y_sample)"
   ]
  },
  {
   "cell_type": "code",
   "execution_count": 13,
   "id": "782f5065",
   "metadata": {},
   "outputs": [],
   "source": [
    "#Not sure if the code below works"
   ]
  },
  {
   "cell_type": "code",
   "execution_count": 14,
   "id": "9327bb78",
   "metadata": {},
   "outputs": [],
   "source": [
    "def split_subsample_sequence(df, length):\n",
    "    '''Return one single random sample (X_sample, y_sample) containing one sequence each of length `length`'''\n",
    "\n",
    "    df_subsample = subsample_sequence(df, length)\n",
    "    \n",
    "    y_sample = df_subsample.iloc[length-1]['dam_zonal_lbmp']\n",
    "    # Case y_sample is NaN: redraw !\n",
    "    if y_sample != y_sample: # A value is not equal to itself only for NaN\n",
    "            X_sample, y_sample = split_subsample_sequence(df, length) # Recursive call !!!\n",
    "            return np.array(X_sample), np.array(y_sample)\n",
    "\n",
    "    X_sample = df_subsample[0:length-1]\n",
    "        \n",
    "    return np.array(X_sample), np.array(y_sample)"
   ]
  },
  {
   "cell_type": "code",
   "execution_count": 15,
   "id": "e343df1e",
   "metadata": {},
   "outputs": [],
   "source": [
    "def get_X_y(df, n_sequences, length):\n",
    "    '''Return a list of samples (X, y)'''\n",
    "    # $CHALLENGIFY_BEGIN\n",
    "    X, y = [], []\n",
    "\n",
    "    for i in range(n_sequences):\n",
    "        (xi, yi) = split_subsample_sequence(df, length)\n",
    "        X.append(xi)\n",
    "        y.append(yi)\n",
    "        \n",
    "    X = np.array(X)\n",
    "    y = np.array(y)\n",
    "    # $CHALLENGIFY_END\n",
    "    return X, y"
   ]
  },
  {
   "cell_type": "code",
   "execution_count": 16,
   "id": "84156fc4",
   "metadata": {},
   "outputs": [],
   "source": [
    "# Example of what the code would return \n",
    "X_train, y_train = get_X_y(df_train, 34252, 13)\n",
    "X_test, y_test = get_X_y(df_test, 8563, 13)"
   ]
  },
  {
   "cell_type": "code",
   "execution_count": 17,
   "id": "0436f78a",
   "metadata": {},
   "outputs": [
    {
     "data": {
      "text/plain": [
       "(34252, 13)"
      ]
     },
     "execution_count": 17,
     "metadata": {},
     "output_type": "execute_result"
    }
   ],
   "source": [
    "df_train.shape"
   ]
  },
  {
   "cell_type": "code",
   "execution_count": 18,
   "id": "bc03bf77",
   "metadata": {},
   "outputs": [
    {
     "data": {
      "text/plain": [
       "(42815, 13)"
      ]
     },
     "execution_count": 18,
     "metadata": {},
     "output_type": "execute_result"
    }
   ],
   "source": [
    "df.shape"
   ]
  },
  {
   "cell_type": "code",
   "execution_count": 19,
   "id": "79732ac8-745a-4b39-b7bc-c45d888e5f50",
   "metadata": {},
   "outputs": [
    {
     "name": "stdout",
     "output_type": "stream",
     "text": [
      "Benchmark MAPE on the test set : 35 %\n"
     ]
    }
   ],
   "source": [
    "# We here decide to predict the mean of the train set y_train\n",
    "y_pred = np.mean(y_train)\n",
    "bench_res = np.mean(np.abs(y_pred - y_test)/y_test)*100\n",
    "\n",
    "print(f'Benchmark MAPE on the test set : {bench_res:.0f} %')"
   ]
  },
  {
   "cell_type": "code",
   "execution_count": 20,
   "id": "30c2ebcc-dcf1-49b0-bf2c-8f4788f1da88",
   "metadata": {},
   "outputs": [
    {
     "name": "stdout",
     "output_type": "stream",
     "text": [
      "Benchmark MAPE on the test set : 7 %\n"
     ]
    }
   ],
   "source": [
    "# Or (better) we predict the last pollution value!\n",
    "y_pred_baseline = X_test[:,-1,0]\n",
    "bench_res = np.mean(np.abs(y_pred_baseline - y_test)/y_test)*100\n",
    "print(f'Benchmark MAPE on the test set : {bench_res:.0f} %')"
   ]
  },
  {
   "cell_type": "code",
   "execution_count": null,
   "id": "82710f14-5c6b-422b-91c5-4503f45d3eae",
   "metadata": {},
   "outputs": [],
   "source": [
    "from tensorflow.keras import models\n",
    "from tensorflow.keras import layers"
   ]
  },
  {
   "cell_type": "code",
   "execution_count": 2,
   "id": "f762cbd0-bb8d-4597-814d-b1da44e9de7f",
   "metadata": {},
   "outputs": [
    {
     "name": "stdout",
     "output_type": "stream",
     "text": [
      "Requirement already satisfied: pip in /Users/jp_diogo/.pyenv/versions/3.8.12/envs/business_sustainability/lib/python3.8/site-packages (22.0.3)\n"
     ]
    }
   ],
   "source": [
    "!pip i"
   ]
  },
  {
   "cell_type": "code",
   "execution_count": null,
   "id": "dd6b5702-c42e-48bc-9002-1d778e8ee27d",
   "metadata": {},
   "outputs": [],
   "source": [
    "from tensorflow.keras import models\n",
    "from tensorflow.keras import layers\n",
    "from tensorflow.keras import optimizers, metrics\n",
    "from tensorflow.keras.layers.experimental.preprocessing import Normalization\n",
    "\n",
    "def init_model():\n",
    "    metric = metrics.MAPE\n",
    "    opt = optimizers.RMSprop(learning_rate=0.01)\n",
    "    \n",
    "    normalizer = Normalization()\n",
    "    normalizer.adapt(X_train)\n",
    "\n",
    "    model = models.Sequential()\n",
    "    model.add(normalizer)\n",
    "    model.add(layers.LSTM(20, activation='tanh'))\n",
    "    model.add(layers.Dense(5, activation='relu'))\n",
    "    model.add(layers.Dense(1, activation='linear'))\n",
    "    \n",
    "    model.compile(loss='mse', \n",
    "                  optimizer=opt, \n",
    "                  metrics=[metric])\n",
    "    \n",
    "    return model"
   ]
  },
  {
   "cell_type": "code",
   "execution_count": null,
   "id": "f551bdb2-321a-4adb-863a-af60ba01d212",
   "metadata": {},
   "outputs": [],
   "source": [
    "res = model.evaluate(X_test, y_test, verbose=0)\n",
    "\n",
    "print(f'MAPE on the test set : {res[1]:.0f} %')"
   ]
  }
 ],
 "metadata": {
  "kernelspec": {
   "display_name": "Python 3 (ipykernel)",
   "language": "python",
   "name": "python3"
  },
  "language_info": {
   "codemirror_mode": {
    "name": "ipython",
    "version": 3
   },
   "file_extension": ".py",
   "mimetype": "text/x-python",
   "name": "python",
   "nbconvert_exporter": "python",
   "pygments_lexer": "ipython3",
   "version": "3.8.12"
  },
  "toc": {
   "base_numbering": 1,
   "nav_menu": {},
   "number_sections": true,
   "sideBar": true,
   "skip_h1_title": false,
   "title_cell": "Table of Contents",
   "title_sidebar": "Contents",
   "toc_cell": false,
   "toc_position": {},
   "toc_section_display": true,
   "toc_window_display": false
  }
 },
 "nbformat": 4,
 "nbformat_minor": 5
}
